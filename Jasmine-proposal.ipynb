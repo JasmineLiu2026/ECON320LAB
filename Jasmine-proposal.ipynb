{
 "cells": [
  {
   "cell_type": "markdown",
   "id": "d3724e28-00ab-4419-817d-8e06a86378b6",
   "metadata": {},
   "source": [
    "\n",
    "<div style=\"\n",
    "    background-color: #f8f9fa; \n",
    "    color: black; \n",
    "    padding: 30px; \n",
    "    text-align: center; \n",
    "    border-radius: 10px; \n",
    "    box-shadow: 0px 4px 8px rgba(0, 0, 0, 0.1);\n",
    "\">\n",
    "    <h1 style=\"color: black; font-size: 2em; font-weight: bold; margin-bottom: 10px;\">\n",
    "        Final Project Econ 320: How Do Health Factors Influence Wealth of Individuals?\n",
    "    </h1>\n",
    "    <h2 style=\"color: black; font-size: 1.5em;\">\n",
    "        Jasmine Liu, Bessy Wang, Dylan Liu, Olin Glister\n",
    "    </h2>\n",
    "</div>\n"
   ]
  },
  {
   "cell_type": "markdown",
   "id": "461c355f",
   "metadata": {},
   "source": [
    "<div style=\"\n",
    "    background-color: #f8f9fa; \n",
    "    color: black; \n",
    "    padding: 30px; \n",
    "    text-align: center; \n",
    "    border-radius: 10px; \n",
    "    box-shadow: 0px 4px 8px rgba(0, 0, 0, 0.1);\n",
    "\">\n",
    "    <h1 style=\"color: black; font-size: 2em; font-weight: bold; margin-bottom: 10px;\">\n",
    "        Introduction and Motivation\n",
    "    </h1>\n",
    "</div>"
   ]
  },
  {
   "cell_type": "markdown",
   "id": "7db933af",
   "metadata": {},
   "source": []
  },
  {
   "cell_type": "markdown",
   "id": "05955951-da38-4bd9-8911-5909b2ef9e42",
   "metadata": {},
   "source": [
    "\n",
    "# Literature Review or Related Literature (Not for proposal)\n",
    "# Data and Descriptive stats \n",
    "Data (upload data for proposal) \n",
    "Show  table describing variable dictionary (proposal) \n",
    "\n",
    "Here you need to describe the data that includes:\n",
    "\n",
    "5 w's: who, what, when, where, and why.\n",
    "General data description: variables, types, size, interesting features\n",
    "Description of interesting data: Motivate what subset of variables you will focus on (not necessarily the regressors only)\n",
    "Charts and Plots: Use your data to build a story. Describe the most interesting data features and relate them to the problem and your model.\n",
    "Note 1: choose graphs wisely.\n",
    "Note 2: \"more\" is better if \"more\" makes sense. Does this additional graph build toward my story or provide vital information for the project.\n",
    "\n",
    "What variables could be important but you cannot include?\n",
    "Economic Hypothesis: for each regressor, make a case, with economic (theoretical or intuitive) reasons, for the effect that it should have.\n",
    "(Each regressor needs an explanation you can do this on the descriptive table for proposal)\n",
    "It is of utmost importance that you include mechanisms. Which channels intuitively take you from the regressor to the dependent variable.\n",
    "\n",
    "\n",
    "\n",
    "# Results \n",
    "\n",
    "Run a preliminar regression of the model above for proposal. Leave the rest for final submission. \n",
    "\n",
    "Present results of econometric estimations (in a table), interpret, and discuss.\n",
    "Discuss the inference about the results in the light of the regression statistics.\n",
    "Try out several specifications to assess the robustness of your findings.\n",
    "Check some Assumptions and Robustness on your discretion  for example:\n",
    "OVB,\n",
    "heteroskedasticity,\n",
    "tests of multiple and joint hypotheses,\n",
    "multicollinearity,\n",
    "normality\n",
    "independence of ɛ and X\n",
    "\n",
    "# Conclusion and drawbacks or future work  (Not for proposal)\n",
    "\n",
    "Summarize the approach of your study, what you tried to explain, and the highlights of your results. Restate any caveats to or shortcomings of your approach (every study has some), and what could be done in future work to overcome these issues.\n",
    "\n",
    "# References (separate from the body of text)(No necessary for proposal)\n",
    "Works cited/ references. Full references to the works you cited in the motivation sections. At least 3 references. no specific format is needed for this.\n",
    "\n",
    " \n",
    "\n",
    "\n",
    "<span style=\"color:green\">** YOU HAVE TO SHOW ALL YOUR CODE, BUT BE MINDFUL THAT THE MORE EFFICIENT YOUR CODE IS THE LESS LINES OF CODE YOU WILL NEED. ALSO THE IDEA OF THE PORJECT IS THAT YOUR TABLES AND GRAPHS ARE SO GOOD THAT IF YOUR CODE IS HIDDEN YOUR WHOLE DOCUMENT MAKE SENSE. YOU NEED TO EXPLAIN YOUR FINDINGS BUT AGAIN YOUR TABLES AND GRAPHS SHOULD BE SELF CONTAINED SO THAT I UNDERSTAND YOUR ANALYSIS BY LOOKING AT THOSE ONLY **</span>\n",
    "\n",
    "<span style=\"color:red\">**REMEMBER THIS A TEMPLATE SO YOU HAVE AN IDEA OF THE SECTIONS THAT YOU COULD CREATE, CONTENT AND PACKAGES THAT YOU SHOULD HAVE IN YOUR PROJECT. HOWEVER, I EXPECT THAT YOU DO AS MUCH AS YOU CAN TO SHOW ME YOUR KNOWLEDGE OF Python \n",
    "    AND YOUR DISCRETION ABOUT WHEN AND HOW TO USE THE CODE. I ALSO EXPECT THAT YOU SHOW ME YOUR SKILLS FOR PROGRAMING ON YOUR OWN, AND FIGURING OUT THE MANIPULATION THAT YOU NEED TO ACCOMPLISH YOUR ANALYTICAL GOALS. THAT MEANS MAKING DECISONS ABOUT PACKAGES AND FUNCTIONS TO USE. ALSO I EXPECT THAT YOU GO A LITTLE BEYOND WHAT YOU LEARNED AND SHOW ME THAT YOU ARE ABLE TO FIGURE OUT THINGS ON YOUR OWN -- NEW CODE WITH FUNCTIONS OR PACKAGES THAT WE DIDN'T LEARN IN CLASS ARE EXPECTED. **</span>"
   ]
  },
  {
   "cell_type": "markdown",
   "id": "64925a92",
   "metadata": {},
   "source": [
    "<div style=\"\n",
    "    background-color: #f8f9fa; \n",
    "    color: black; \n",
    "    padding: 30px; \n",
    "    text-align: center; \n",
    "    border-radius: 10px; \n",
    "    box-shadow: 0px 4px 8px rgba(0, 0, 0, 0.1);\n",
    "\">\n",
    "    <h1 style=\"color: black; font-size: 2em; font-weight: bold; margin-bottom: 10px;\">\n",
    "        Data and Code\n",
    "    </h1>\n",
    "</div>"
   ]
  },
  {
   "cell_type": "markdown",
   "id": "56a9f82a",
   "metadata": {},
   "source": [
    "# Data and Descriptive Statistics\n",
    "\n",
    "### Table of Variables:\n",
    "\n",
    "| **Variable Name** | **Description**                                                                                                                                                                                                                                                                                                                                           | **Type**      | **Units** | **Dependent/Independent** |\n",
    "|-------------------|---------------------------------------------------------------------------------------------------------------------------------------------------------------------------------------------------------------------------------------------------------------------------------------------------------------------------------------------------------|---------------|-----------|---------------------------|\n",
    "| `FOODSTMP`        | Indicates whether anyone in the household received Food Stamps (now called the Supplemental Nutrition Assistance Program, or SNAP) at any time in the past 12 months.                                                                                                                                                                      | Categorical   | N/A       | Independent               |\n",
    "| `HCOVANY`         | Indicates whether persons had any health insurance coverage at the time of interview.                                                                                                                                                                                                                                                             | Categorical   | N/A       | Independent               |\n",
    "| `EDUC`            | Indicates respondents' educational attainment, as measured by the highest year of school or degree completed.                                                                                                                                                                                                                                     | Categorical   | N/A       | Independent               |\n",
    "| `EMPSTAT`         | Indicates whether the respondent was a part of the labor force -- working or seeking work -- and, if so, whether the person was currently unemployed.                                                                                                                                                                                         | Categorical   | N/A       | Independent               |\n",
    "| `ABSENT`          | Indicates whether persons who did not work during the previous week had a job or business from which they were temporarily absent and, if so, whether they were absent due to a layoff or if their absence was for some other reason.                                                                                                          | Categorical   | N/A       | Independent               |\n",
    "| `DIFFCARE`        | Indicates whether respondents have any physical or mental health condition that has lasted at least 6 months and makes it difficult for them to take care of their own personal needs, such as bathing, dressing, or getting around inside the home. This does not include temporary health conditions, such as broken bones or pregnancies. | Categorical   | N/A       | Independent               |\n",
    "| `INCTOT`          | A 7-digit numeric code reporting each respondent's total pre-tax personal income or losses from all sources for the previous year.                                                                                                                                                       | Numeric       | Dollars   | Dependent                 |\n"
   ]
  },
  {
   "cell_type": "code",
   "execution_count": 124,
   "id": "050ba9c8-be56-4966-ba33-c538865add2a",
   "metadata": {},
   "outputs": [
    {
     "name": "stdout",
     "output_type": "stream",
     "text": [
      "We have 3405809 observations.\n"
     ]
    },
    {
     "data": {
      "text/html": [
       "<div>\n",
       "<style scoped>\n",
       "    .dataframe tbody tr th:only-of-type {\n",
       "        vertical-align: middle;\n",
       "    }\n",
       "\n",
       "    .dataframe tbody tr th {\n",
       "        vertical-align: top;\n",
       "    }\n",
       "\n",
       "    .dataframe thead th {\n",
       "        text-align: right;\n",
       "    }\n",
       "</style>\n",
       "<table border=\"1\" class=\"dataframe\">\n",
       "  <thead>\n",
       "    <tr style=\"text-align: right;\">\n",
       "      <th></th>\n",
       "      <th>YEAR</th>\n",
       "      <th>FOODSTMP</th>\n",
       "      <th>HCOVANY</th>\n",
       "      <th>EDUC</th>\n",
       "      <th>EMPSTAT</th>\n",
       "      <th>ABSENT</th>\n",
       "      <th>INCTOT</th>\n",
       "      <th>DIFFCARE</th>\n",
       "    </tr>\n",
       "  </thead>\n",
       "  <tbody>\n",
       "    <tr>\n",
       "      <th>0</th>\n",
       "      <td>2023</td>\n",
       "      <td>1</td>\n",
       "      <td>2</td>\n",
       "      <td>6</td>\n",
       "      <td>3</td>\n",
       "      <td>4</td>\n",
       "      <td>11500</td>\n",
       "      <td>1</td>\n",
       "    </tr>\n",
       "    <tr>\n",
       "      <th>1</th>\n",
       "      <td>2023</td>\n",
       "      <td>1</td>\n",
       "      <td>1</td>\n",
       "      <td>6</td>\n",
       "      <td>3</td>\n",
       "      <td>4</td>\n",
       "      <td>0</td>\n",
       "      <td>1</td>\n",
       "    </tr>\n",
       "    <tr>\n",
       "      <th>2</th>\n",
       "      <td>2023</td>\n",
       "      <td>1</td>\n",
       "      <td>2</td>\n",
       "      <td>7</td>\n",
       "      <td>3</td>\n",
       "      <td>4</td>\n",
       "      <td>0</td>\n",
       "      <td>1</td>\n",
       "    </tr>\n",
       "    <tr>\n",
       "      <th>3</th>\n",
       "      <td>2023</td>\n",
       "      <td>1</td>\n",
       "      <td>2</td>\n",
       "      <td>2</td>\n",
       "      <td>0</td>\n",
       "      <td>0</td>\n",
       "      <td>9999999</td>\n",
       "      <td>1</td>\n",
       "    </tr>\n",
       "    <tr>\n",
       "      <th>4</th>\n",
       "      <td>2023</td>\n",
       "      <td>1</td>\n",
       "      <td>2</td>\n",
       "      <td>6</td>\n",
       "      <td>3</td>\n",
       "      <td>1</td>\n",
       "      <td>2500</td>\n",
       "      <td>1</td>\n",
       "    </tr>\n",
       "  </tbody>\n",
       "</table>\n",
       "</div>"
      ],
      "text/plain": [
       "   YEAR  FOODSTMP  HCOVANY  EDUC  EMPSTAT  ABSENT   INCTOT  DIFFCARE\n",
       "0  2023         1        2     6        3       4    11500         1\n",
       "1  2023         1        1     6        3       4        0         1\n",
       "2  2023         1        2     7        3       4        0         1\n",
       "3  2023         1        2     2        0       0  9999999         1\n",
       "4  2023         1        2     6        3       1     2500         1"
      ]
     },
     "execution_count": 124,
     "metadata": {},
     "output_type": "execute_result"
    }
   ],
   "source": [
    "import pandas as pd\n",
    "\n",
    "df = pd.read_csv(\"df_final_dataset.csv\")\n",
    "print(\"We have \" + str(df.shape[0])+ \" observations.\")\n",
    "df.head()"
   ]
  },
  {
   "cell_type": "code",
   "execution_count": 125,
   "id": "a298bbdd",
   "metadata": {},
   "outputs": [
    {
     "name": "stdout",
     "output_type": "stream",
     "text": [
      "<class 'pandas.core.frame.DataFrame'>\n",
      "RangeIndex: 3405809 entries, 0 to 3405808\n",
      "Data columns (total 8 columns):\n",
      " #   Column    Dtype\n",
      "---  ------    -----\n",
      " 0   YEAR      int64\n",
      " 1   FOODSTMP  int64\n",
      " 2   HCOVANY   int64\n",
      " 3   EDUC      int64\n",
      " 4   EMPSTAT   int64\n",
      " 5   ABSENT    int64\n",
      " 6   INCTOT    int64\n",
      " 7   DIFFCARE  int64\n",
      "dtypes: int64(8)\n",
      "memory usage: 207.9 MB\n"
     ]
    }
   ],
   "source": [
    "df.info()"
   ]
  },
  {
   "cell_type": "code",
   "execution_count": 126,
   "id": "ea2bd8b6",
   "metadata": {},
   "outputs": [
    {
     "name": "stdout",
     "output_type": "stream",
     "text": [
      "YEAR        0\n",
      "FOODSTMP    0\n",
      "HCOVANY     0\n",
      "EDUC        0\n",
      "EMPSTAT     0\n",
      "ABSENT      0\n",
      "INCTOT      0\n",
      "DIFFCARE    0\n",
      "dtype: int64\n",
      "The dataset used has 0 null entries.\n"
     ]
    }
   ],
   "source": [
    "print(f\"{df.isnull().sum()}\")\n",
    "print(f\"The dataset used has 0 null entries.\")"
   ]
  },
  {
   "cell_type": "markdown",
   "id": "82213f44",
   "metadata": {},
   "source": [
    "### Data Pre-processing:\n",
    "Based on the code description from IPUMS, we learned that there are invalid codes for each variable. Here, we did some data preprocessing to remove invalid data."
   ]
  },
  {
   "cell_type": "code",
   "execution_count": 127,
   "id": "8e42c52c",
   "metadata": {},
   "outputs": [],
   "source": [
    "invalid_values = {\n",
    "    'INCTOT': {-99995, -1, 0, 1, 9999999, 9999998},  # Net loss, none, break-even, unknown, N/A\n",
    "    'EDUC': {0, 99},  # N/A or no schooling, missing\n",
    "    'FOODSTMP': {0},  # N/A\n",
    "    'EMPSTAT': {0, 9},  # N/A, unknown\n",
    "    'ABSENT': {0, 4},  # N/A, not reported\n",
    "    'DIFFCARE': {0}  # N/A\n",
    "}\n",
    "\n",
    "# Remove invalid values for each column\n",
    "for col, invalid_set in invalid_values.items():\n",
    "    df = df[~df[col].isin(invalid_set)]"
   ]
  },
  {
   "cell_type": "markdown",
   "id": "2eca0ae2",
   "metadata": {},
   "source": [
    "### Summary Statistics"
   ]
  },
  {
   "cell_type": "code",
   "execution_count": 128,
   "id": "8814590a",
   "metadata": {},
   "outputs": [
    {
     "data": {
      "text/html": [
       "<div>\n",
       "<style scoped>\n",
       "    .dataframe tbody tr th:only-of-type {\n",
       "        vertical-align: middle;\n",
       "    }\n",
       "\n",
       "    .dataframe tbody tr th {\n",
       "        vertical-align: top;\n",
       "    }\n",
       "\n",
       "    .dataframe thead th {\n",
       "        text-align: right;\n",
       "    }\n",
       "</style>\n",
       "<table border=\"1\" class=\"dataframe\">\n",
       "  <thead>\n",
       "    <tr style=\"text-align: right;\">\n",
       "      <th></th>\n",
       "      <th>YEAR</th>\n",
       "      <th>FOODSTMP</th>\n",
       "      <th>HCOVANY</th>\n",
       "      <th>EDUC</th>\n",
       "      <th>EMPSTAT</th>\n",
       "      <th>ABSENT</th>\n",
       "      <th>INCTOT</th>\n",
       "      <th>DIFFCARE</th>\n",
       "    </tr>\n",
       "  </thead>\n",
       "  <tbody>\n",
       "    <tr>\n",
       "      <th>count</th>\n",
       "      <td>870901.0</td>\n",
       "      <td>870901.000000</td>\n",
       "      <td>870901.000000</td>\n",
       "      <td>870901.000000</td>\n",
       "      <td>870901.000000</td>\n",
       "      <td>870901.000000</td>\n",
       "      <td>8.709010e+05</td>\n",
       "      <td>870901.000000</td>\n",
       "    </tr>\n",
       "    <tr>\n",
       "      <th>mean</th>\n",
       "      <td>2023.0</td>\n",
       "      <td>1.132651</td>\n",
       "      <td>1.963808</td>\n",
       "      <td>7.387068</td>\n",
       "      <td>2.664544</td>\n",
       "      <td>1.070963</td>\n",
       "      <td>4.049711e+04</td>\n",
       "      <td>1.068134</td>\n",
       "    </tr>\n",
       "    <tr>\n",
       "      <th>std</th>\n",
       "      <td>0.0</td>\n",
       "      <td>0.339197</td>\n",
       "      <td>0.186769</td>\n",
       "      <td>2.217184</td>\n",
       "      <td>0.721521</td>\n",
       "      <td>0.369988</td>\n",
       "      <td>5.913494e+04</td>\n",
       "      <td>0.251976</td>\n",
       "    </tr>\n",
       "    <tr>\n",
       "      <th>min</th>\n",
       "      <td>2023.0</td>\n",
       "      <td>1.000000</td>\n",
       "      <td>1.000000</td>\n",
       "      <td>1.000000</td>\n",
       "      <td>1.000000</td>\n",
       "      <td>1.000000</td>\n",
       "      <td>-1.000000e+04</td>\n",
       "      <td>1.000000</td>\n",
       "    </tr>\n",
       "    <tr>\n",
       "      <th>25%</th>\n",
       "      <td>2023.0</td>\n",
       "      <td>1.000000</td>\n",
       "      <td>2.000000</td>\n",
       "      <td>6.000000</td>\n",
       "      <td>3.000000</td>\n",
       "      <td>1.000000</td>\n",
       "      <td>1.130000e+04</td>\n",
       "      <td>1.000000</td>\n",
       "    </tr>\n",
       "    <tr>\n",
       "      <th>50%</th>\n",
       "      <td>2023.0</td>\n",
       "      <td>1.000000</td>\n",
       "      <td>2.000000</td>\n",
       "      <td>7.000000</td>\n",
       "      <td>3.000000</td>\n",
       "      <td>1.000000</td>\n",
       "      <td>2.400000e+04</td>\n",
       "      <td>1.000000</td>\n",
       "    </tr>\n",
       "    <tr>\n",
       "      <th>75%</th>\n",
       "      <td>2023.0</td>\n",
       "      <td>1.000000</td>\n",
       "      <td>2.000000</td>\n",
       "      <td>10.000000</td>\n",
       "      <td>3.000000</td>\n",
       "      <td>1.000000</td>\n",
       "      <td>4.880000e+04</td>\n",
       "      <td>1.000000</td>\n",
       "    </tr>\n",
       "    <tr>\n",
       "      <th>max</th>\n",
       "      <td>2023.0</td>\n",
       "      <td>2.000000</td>\n",
       "      <td>2.000000</td>\n",
       "      <td>11.000000</td>\n",
       "      <td>3.000000</td>\n",
       "      <td>3.000000</td>\n",
       "      <td>1.558000e+06</td>\n",
       "      <td>2.000000</td>\n",
       "    </tr>\n",
       "  </tbody>\n",
       "</table>\n",
       "</div>"
      ],
      "text/plain": [
       "           YEAR       FOODSTMP        HCOVANY           EDUC        EMPSTAT  \\\n",
       "count  870901.0  870901.000000  870901.000000  870901.000000  870901.000000   \n",
       "mean     2023.0       1.132651       1.963808       7.387068       2.664544   \n",
       "std         0.0       0.339197       0.186769       2.217184       0.721521   \n",
       "min      2023.0       1.000000       1.000000       1.000000       1.000000   \n",
       "25%      2023.0       1.000000       2.000000       6.000000       3.000000   \n",
       "50%      2023.0       1.000000       2.000000       7.000000       3.000000   \n",
       "75%      2023.0       1.000000       2.000000      10.000000       3.000000   \n",
       "max      2023.0       2.000000       2.000000      11.000000       3.000000   \n",
       "\n",
       "              ABSENT        INCTOT       DIFFCARE  \n",
       "count  870901.000000  8.709010e+05  870901.000000  \n",
       "mean        1.070963  4.049711e+04       1.068134  \n",
       "std         0.369988  5.913494e+04       0.251976  \n",
       "min         1.000000 -1.000000e+04       1.000000  \n",
       "25%         1.000000  1.130000e+04       1.000000  \n",
       "50%         1.000000  2.400000e+04       1.000000  \n",
       "75%         1.000000  4.880000e+04       1.000000  \n",
       "max         3.000000  1.558000e+06       2.000000  "
      ]
     },
     "execution_count": 128,
     "metadata": {},
     "output_type": "execute_result"
    }
   ],
   "source": [
    "df.describe()"
   ]
  },
  {
   "cell_type": "markdown",
   "id": "b521751c",
   "metadata": {},
   "source": [
    "We saw that incont's min is negative. So here we found that there are negative income, which means the person didn't earn enough to cover all their expenses"
   ]
  },
  {
   "cell_type": "code",
   "execution_count": 129,
   "id": "d568e009",
   "metadata": {},
   "outputs": [
    {
     "name": "stdout",
     "output_type": "stream",
     "text": [
      "There are 1843 non-positive entires in INCTOT\n"
     ]
    }
   ],
   "source": [
    "non_positive_values = df[\"INCTOT\"][df[\"INCTOT\"] <= 0]\n",
    "non_positive_count = non_positive_values.count()\n",
    "print(f\"There are {non_positive_count} non-positive entires in INCTOT\")"
   ]
  },
  {
   "cell_type": "markdown",
   "id": "58cfc755",
   "metadata": {},
   "source": [
    "### Graphs:"
   ]
  },
  {
   "cell_type": "code",
   "execution_count": 130,
   "id": "8661a3ed",
   "metadata": {},
   "outputs": [
    {
     "data": {
      "text/plain": [
       "1    755375\n",
       "2    115526\n",
       "Name: FOODSTMP, dtype: int64"
      ]
     },
     "metadata": {},
     "output_type": "display_data"
    },
    {
     "data": {
      "text/plain": [
       "2    839381\n",
       "1     31520\n",
       "Name: HCOVANY, dtype: int64"
      ]
     },
     "metadata": {},
     "output_type": "display_data"
    },
    {
     "data": {
      "text/plain": [
       "6     358913\n",
       "10    148733\n",
       "7     116795\n",
       "11    104931\n",
       "8      72224\n",
       "5      21422\n",
       "2      17012\n",
       "4      16902\n",
       "3      10144\n",
       "1       3825\n",
       "Name: EDUC, dtype: int64"
      ]
     },
     "metadata": {},
     "output_type": "display_data"
    },
    {
     "data": {
      "text/plain": [
       "3    708371\n",
       "1    129619\n",
       "2     32911\n",
       "Name: EMPSTAT, dtype: int64"
      ]
     },
     "metadata": {},
     "output_type": "display_data"
    },
    {
     "data": {
      "text/plain": [
       "1    840000\n",
       "3     30901\n",
       "Name: ABSENT, dtype: int64"
      ]
     },
     "metadata": {},
     "output_type": "display_data"
    },
    {
     "data": {
      "text/plain": [
       "1    811563\n",
       "2     59338\n",
       "Name: DIFFCARE, dtype: int64"
      ]
     },
     "metadata": {},
     "output_type": "display_data"
    }
   ],
   "source": [
    "import matplotlib.pyplot as plt\n",
    "import seaborn as sns\n",
    "\n",
    "# Value counts for categorical variables\n",
    "categorical_cols = ['FOODSTMP', 'HCOVANY', 'EDUC', 'EMPSTAT', 'ABSENT', 'DIFFCARE']\n",
    "for col in categorical_cols:\n",
    "    display(df[col].value_counts())"
   ]
  },
  {
   "cell_type": "code",
   "execution_count": 131,
   "id": "4c960a6b",
   "metadata": {},
   "outputs": [
    {
     "data": {
      "image/png": "[encoded data removed]",
      "text/plain": [
       "<Figure size 864x360 with 1 Axes>"
      ]
     },
     "metadata": {
      "needs_background": "light"
     },
     "output_type": "display_data"
    }
   ],
   "source": [
    "# Boxplot of income by education level\n",
    "plt.figure(figsize=(12, 5))\n",
    "sns.boxplot(x=df['EDUC'], y=df['INCTOT'])\n",
    "plt.title('Income Distribution by Education Level')\n",
    "plt.xlabel('Education Level')\n",
    "plt.ylabel('Total Income')\n",
    "plt.show()"
   ]
  },
  {
   "cell_type": "code",
   "execution_count": 132,
   "id": "20d208de",
   "metadata": {},
   "outputs": [
    {
     "data": {
      "image/png": "[encoded data removed]",
      "text/plain": [
       "<Figure size 576x360 with 1 Axes>"
      ]
     },
     "metadata": {
      "needs_background": "light"
     },
     "output_type": "display_data"
    }
   ],
   "source": [
    "# Bar plot of employment status\n",
    "plt.figure(figsize=(8, 5))\n",
    "sns.countplot(x=df['EMPSTAT'])\n",
    "plt.title('Employment Status Distribution')\n",
    "plt.xlabel('Employment Status')\n",
    "plt.ylabel('Count')\n",
    "plt.show()"
   ]
  },
  {
   "cell_type": "code",
   "execution_count": 133,
   "id": "dd9eac4e",
   "metadata": {},
   "outputs": [
    {
     "data": {
      "image/png": "[encoded data removed]",
      "text/plain": [
       "<Figure size 576x432 with 2 Axes>"
      ]
     },
     "metadata": {
      "needs_background": "light"
     },
     "output_type": "display_data"
    }
   ],
   "source": [
    "# Correlation heatmap\n",
    "plt.figure(figsize=(8, 6))\n",
    "sns.heatmap(df.corr(), annot=True, cmap='coolwarm', fmt=\".2f\")\n",
    "plt.title('Correlation Heatmap')\n",
    "plt.show()"
   ]
  },
  {
   "cell_type": "code",
   "execution_count": 134,
   "id": "fb0f570d",
   "metadata": {},
   "outputs": [
    {
     "data": {
      "image/png": "[encoded data removed]",
      "text/plain": [
       "<Figure size 720x360 with 1 Axes>"
      ]
     },
     "metadata": {
      "needs_background": "light"
     },
     "output_type": "display_data"
    }
   ],
   "source": [
    "# Distribution of total income\n",
    "plt.figure(figsize=(10, 5))\n",
    "sns.histplot(df['INCTOT'], bins=50, kde=True)\n",
    "plt.title('Distribution of Total Income')\n",
    "plt.xlabel('Total Income')\n",
    "plt.ylabel('Frequency')\n",
    "plt.show()"
   ]
  },
  {
   "cell_type": "markdown",
   "id": "b000106a",
   "metadata": {},
   "source": [
    "\n",
    "# Results \n",
    "\n",
    "Run a preliminar regression of the model above for proposal. Leave the rest for final submission. \n",
    "\n",
    "Present results of econometric estimations (in a table), interpret, and discuss.\n",
    "Discuss the inference about the results in the light of the regression statistics.\n",
    "Try out several specifications to assess the robustness of your findings.\n",
    "\n",
    "Check some Assumptions and Robustness on your discretion  for example:\n",
    "OVB,\n",
    "heteroskedasticity,\n",
    "tests of multiple and joint hypotheses,\n",
    "multicollinearity,\n",
    "normality\n",
    "independence of ɛ and X"
   ]
  },
  {
   "cell_type": "markdown",
   "id": "233c7304",
   "metadata": {},
   "source": [
    "<div style=\"\n",
    "    background-color: #f8f9fa; \n",
    "    color: black; \n",
    "    padding: 30px; \n",
    "    text-align: center; \n",
    "    border-radius: 10px; \n",
    "    box-shadow: 0px 4px 8px rgba(0, 0, 0, 0.1);\n",
    "\">\n",
    "    <h1 style=\"color: black; font-size: 2em; font-weight: bold; margin-bottom: 10px;\">\n",
    "        Regression\n",
    "    </h1>\n",
    "</div>"
   ]
  },
  {
   "cell_type": "markdown",
   "id": "56dd8446",
   "metadata": {},
   "source": [
    "## Regression Model  \n",
    "\n",
    "We will use an **Ordinary Least Squares (OLS) regression** because `INCTOT` is a continuous dependent variable. Because **OLS** is designed to model relationships where the dependent variable is continous and the data is (approx) normally distributed, it is a good fit. \n",
    "\n",
    "Our basic regression equation is as follows:  \n",
    "\n",
    "$$\n",
    "INCTOT = \\beta_0 + \\beta_1 \\text{FOODSTMP} + \\beta_2 \\text{HCOVANY} + \\beta_3 \\text{EDUC} + \\beta_4 \\text{EMPSTAT} + \\beta_5 \\text{ABSENT} + \\beta_6 \\text{DIFFCARE} + \\mu\n",
    "$$\n",
    "\n",
    "\n",
    "`FOODSTMP`  was included because receiving food stamps (**SNAP**) is a strong indicator of financial hardship, as eligibility is based on income thresholds in the US. By including this variable it helps capture the economic status of individuals and assess whether participation in government assistance food programs affect income. \n",
    "\n",
    "`HCOVANY`    was included beause health insurance coverage is often tied to employment quality and economic stability. People with insurance may have access to better healthcare, which may lead to improved productivity and higher lifetime earnings. Uninsured individuals may face greater financial instability due to medical costs.\n",
    "\n",
    "`EDUC`  was included because higher educational attainment is linked to better job opportunities and higher income. Poor health may limit a person's ability to reach a higher educational attainment from prelimiary research.\n",
    "\n",
    "`EMPSTAT` was included because employment status directly impacts an individual's ability to generate wealth, and poor health can be a major barrier to stable employment. Chronic illness, disability, or mental health struggles can make it difficult to secure or maintain a job, leading to lower income and fewer opportunities for earning it.\n",
    "\n",
    "`ABSENT`    was included becuase we had intution that people suffering from long term health issues likely are absent from work more often than people who are not suffering from health issues.\n",
    "\n",
    "`DIFFCARE`   was included because having a physical or mental condition that limits self-care can severely restrict an individual's ability to work, earn a stable income, and accumulate wealth. We believe that this variable will helps us understand the direct relationship between long-term health challenges and wealth inequality.\n"
   ]
  },
  {
   "cell_type": "markdown",
   "id": "b92e8043",
   "metadata": {},
   "source": [
    "| **Variable**  | **Expected Relationship with Income** | **Explanation**  |  \n",
    "|--------------|--------------------------------|-------------------------------------------------|  \n",
    "| **`FOODSTMP`**  | Negative  | Receiving food assistance indicates less disposible income and may be associated with lower earnings.  |  \n",
    "| **`HCOVANY`**  | Positive  | Health insurance is linked to stable, higher-paying jobs and better health outcomes that support productivity.  |  \n",
    "| **`EDUC`**  | Positive  | Higher education increases human capital, which may lead to better job opportunities and higher wages.  |  \n",
    "| **`EMPSTAT`**  | Positive  | Employment directly generates income.  |  \n",
    "| **`ABSENT`**  | Negative  | Frequent or prolonged absences from work may lead to lost wages and reduced job stability.  |  \n",
    "| **`DIFFCARE`**  | Negative  | Health conditions that limit self-care can reduce labor market participation and overall earning potential.  |  "
   ]
  },
  {
   "cell_type": "markdown",
   "id": "b9c35b73",
   "metadata": {},
   "source": [
    "**Variables that were not included but could be helpful**:\n",
    "\n",
    "Chronic Illness or Disability Severity – While we have `DIFFCARE`, a more detailed measure of specific chronic conditions (e.g., diabetes, heart disease, mental illness) or the degree of disability would better quantify how health limitations affect earnings.\n",
    "\n",
    "Number of Sick Days or Hospitalizations – The frequency of hospital visits or time off work due to illness would provide insight into how temporary health shocks disrupt income streams and job stability. However, a pure hospital visit variable may be misleading as people with higher income may visit the hosptial more because of better insurance.\n",
    "\n",
    "Access to Preventative Care – Individuals who receive regular checkups and preventative healthcare may experience better long-term health outcomes, allowing them to remain in the workforce longer and maintain higher earnings.\n"
   ]
  },
  {
   "cell_type": "code",
   "execution_count": 135,
   "id": "f04fc0b5",
   "metadata": {},
   "outputs": [],
   "source": [
    "import matplotlib.pyplot as plt\n",
    "import seaborn as sns\n",
    "import statsmodels.formula.api as smf\n",
    "from scipy.optimize import minimize"
   ]
  },
  {
   "cell_type": "markdown",
   "id": "07066e19",
   "metadata": {},
   "source": [
    "Some of the variables are categorical, `FOODSTMP`, `EDUC`, etc. I need to make some adjustments so that the model may interpret it correctly."
   ]
  },
  {
   "cell_type": "code",
   "execution_count": 136,
   "id": "fb4f2040",
   "metadata": {},
   "outputs": [
    {
     "name": "stdout",
     "output_type": "stream",
     "text": [
      "    YEAR  FOODSTMP  HCOVANY  EMPSTAT  ABSENT  INCTOT  DIFFCARE  CollegeEDU  \\\n",
      "4   2023         1        2        3       1    2500         1           0   \n",
      "5   2023         1        2        3       1     500         1           1   \n",
      "7   2023         1        2        3       1   15600         1           1   \n",
      "8   2023         1        2        3       1   10000         1           1   \n",
      "11  2023         1        2        2       1    2000         1           0   \n",
      "\n",
      "    HighSchoolEDU  MiddleSchoolEDU  \n",
      "4               1                0  \n",
      "5               0                0  \n",
      "7               0                0  \n",
      "8               0                0  \n",
      "11              1                0  \n"
     ]
    }
   ],
   "source": [
    "# EDUC is a confusing categorical variable, so I will split it into 3 categories\n",
    "# Up to middle school, up to highschool, and up to college\n",
    "def categorize_education(educ_level):\n",
    "    if educ_level in [0, 1, 2]:\n",
    "        return 'MiddleSchoolEDU'\n",
    "    elif educ_level in [3, 4, 5, 6]:\n",
    "        return 'HighSchoolEDU'\n",
    "    elif educ_level in [7, 8, 9, 10, 11]: \n",
    "        return 'CollegeEDU'\n",
    "    else: \n",
    "        return 'Missing'\n",
    "\n",
    "df['EDUC_Categorized'] = df['EDUC'].apply(categorize_education)\n",
    "# preform dummy encoding to the new variables\n",
    "df_dummies = pd.get_dummies(df['EDUC_Categorized'])\n",
    "df = df.drop(['EDUC', 'EDUC_Categorized'], axis=1)\n",
    "\n",
    "df = pd.concat([df, df_dummies], axis=1)\n",
    "print(df.head())"
   ]
  },
  {
   "cell_type": "code",
   "execution_count": 137,
   "id": "b196435e",
   "metadata": {},
   "outputs": [
    {
     "data": {
      "text/html": [
       "<div>\n",
       "<style scoped>\n",
       "    .dataframe tbody tr th:only-of-type {\n",
       "        vertical-align: middle;\n",
       "    }\n",
       "\n",
       "    .dataframe tbody tr th {\n",
       "        vertical-align: top;\n",
       "    }\n",
       "\n",
       "    .dataframe thead th {\n",
       "        text-align: right;\n",
       "    }\n",
       "</style>\n",
       "<table border=\"1\" class=\"dataframe\">\n",
       "  <thead>\n",
       "    <tr style=\"text-align: right;\">\n",
       "      <th></th>\n",
       "      <th>YEAR</th>\n",
       "      <th>INCTOT</th>\n",
       "      <th>CollegeEDU</th>\n",
       "      <th>HighSchoolEDU</th>\n",
       "      <th>MiddleSchoolEDU</th>\n",
       "      <th>FOODSTMP</th>\n",
       "      <th>HCOVANY</th>\n",
       "      <th>EMPSTAT</th>\n",
       "      <th>ABSENT</th>\n",
       "      <th>DIFFCARE</th>\n",
       "    </tr>\n",
       "  </thead>\n",
       "  <tbody>\n",
       "    <tr>\n",
       "      <th>4</th>\n",
       "      <td>2023</td>\n",
       "      <td>2500</td>\n",
       "      <td>0</td>\n",
       "      <td>1</td>\n",
       "      <td>0</td>\n",
       "      <td>0</td>\n",
       "      <td>1</td>\n",
       "      <td>0</td>\n",
       "      <td>0</td>\n",
       "      <td>0</td>\n",
       "    </tr>\n",
       "    <tr>\n",
       "      <th>5</th>\n",
       "      <td>2023</td>\n",
       "      <td>500</td>\n",
       "      <td>1</td>\n",
       "      <td>0</td>\n",
       "      <td>0</td>\n",
       "      <td>0</td>\n",
       "      <td>1</td>\n",
       "      <td>0</td>\n",
       "      <td>0</td>\n",
       "      <td>0</td>\n",
       "    </tr>\n",
       "    <tr>\n",
       "      <th>7</th>\n",
       "      <td>2023</td>\n",
       "      <td>15600</td>\n",
       "      <td>1</td>\n",
       "      <td>0</td>\n",
       "      <td>0</td>\n",
       "      <td>0</td>\n",
       "      <td>1</td>\n",
       "      <td>0</td>\n",
       "      <td>0</td>\n",
       "      <td>0</td>\n",
       "    </tr>\n",
       "    <tr>\n",
       "      <th>8</th>\n",
       "      <td>2023</td>\n",
       "      <td>10000</td>\n",
       "      <td>1</td>\n",
       "      <td>0</td>\n",
       "      <td>0</td>\n",
       "      <td>0</td>\n",
       "      <td>1</td>\n",
       "      <td>0</td>\n",
       "      <td>0</td>\n",
       "      <td>0</td>\n",
       "    </tr>\n",
       "    <tr>\n",
       "      <th>11</th>\n",
       "      <td>2023</td>\n",
       "      <td>2000</td>\n",
       "      <td>0</td>\n",
       "      <td>1</td>\n",
       "      <td>0</td>\n",
       "      <td>0</td>\n",
       "      <td>1</td>\n",
       "      <td>0</td>\n",
       "      <td>0</td>\n",
       "      <td>0</td>\n",
       "    </tr>\n",
       "  </tbody>\n",
       "</table>\n",
       "</div>"
      ],
      "text/plain": [
       "    YEAR  INCTOT  CollegeEDU  HighSchoolEDU  MiddleSchoolEDU  FOODSTMP  \\\n",
       "4   2023    2500           0              1                0         0   \n",
       "5   2023     500           1              0                0         0   \n",
       "7   2023   15600           1              0                0         0   \n",
       "8   2023   10000           1              0                0         0   \n",
       "11  2023    2000           0              1                0         0   \n",
       "\n",
       "    HCOVANY  EMPSTAT  ABSENT  DIFFCARE  \n",
       "4         1        0       0         0  \n",
       "5         1        0       0         0  \n",
       "7         1        0       0         0  \n",
       "8         1        0       0         0  \n",
       "11        1        0       0         0  "
      ]
     },
     "execution_count": 137,
     "metadata": {},
     "output_type": "execute_result"
    }
   ],
   "source": [
    "# Now I need to convert the rest of the categorical variables into dummy variables\n",
    "\"\"\"\n",
    "Below is an implementation of getting dummies for the rest of the 5 variables that are left in the table\n",
    "\"\"\"\n",
    "\n",
    "# FOODSTMP\n",
    "df_dummies = pd.get_dummies(df['FOODSTMP'], prefix='FOODSTMP', drop_first=True)\n",
    "df = pd.concat([df, df_dummies], axis=1)\n",
    "\n",
    "# HCOVANY\n",
    "df_dummies = pd.get_dummies(df['HCOVANY'], prefix='HCOVANY', drop_first=True)\n",
    "df = pd.concat([df, df_dummies], axis=1)\n",
    "\n",
    "# EMPSTAT\n",
    "df['EMPSTAT_Employed'] = (df['EMPSTAT'] == 1).astype(int)\n",
    "\n",
    "# ABSENT\n",
    "df_dummies = pd.get_dummies(df['ABSENT'], prefix='ABSENT', drop_first=True)\n",
    "df = pd.concat([df, df_dummies], axis=1)\n",
    "\n",
    "# DIFFCARE\n",
    "df_dummies = pd.get_dummies(df['DIFFCARE'], prefix='DIFFCARE', drop_first=True)\n",
    "df = pd.concat([df, df_dummies], axis=1)\n",
    "\n",
    "df.drop(['FOODSTMP', 'HCOVANY', 'EMPSTAT', 'ABSENT', 'DIFFCARE'], axis=1, inplace=True)\n",
    "\n",
    "df.rename(columns={\n",
    "    'FOODSTMP_2': 'FOODSTMP',\n",
    "    'HCOVANY_2': 'HCOVANY',\n",
    "    'EMPSTAT_Employed': 'EMPSTAT',\n",
    "    'ABSENT_3': 'ABSENT',\n",
    "    'DIFFCARE_2': 'DIFFCARE'\n",
    "}, inplace=True)\n",
    "\n",
    "df.head()"
   ]
  },
  {
   "cell_type": "markdown",
   "id": "1316de72",
   "metadata": {},
   "source": [
    "After turning the categorical variables into one-hot variables, the model now looks as follows:\n",
    "$$\n",
    "\\text{INCTOT} = \\beta_0 + \\beta_1 (\\text{Middle School EDU}) + \\beta_2 (\\text{High School EDU}) + $$ \n",
    "$$ \n",
    "\\beta_3 (\\text{College EDU}) + \\beta_4 (\\text{FOODSTMP}) + \\beta_5 (\\text{HCOVANY}) + \\beta_6 (\\text{EMPSTAT}) + \\beta_7 (\\text{ABSENT}) + \\beta_8 (\\text{DIFFCARE}) + \\mu\n",
    "$$\n",
    "**Middle School EDU** is a dummy variable for individuals with education up to middle school.\n",
    "\n",
    "**High School EDU** is a dummy variable for individuals with education up to high school.\n",
    "\n",
    "**College EDU** is a dummy variable for individuals with education up to college.\n",
    "\n",
    "**FOODSTMP** is a dummy variable indicating whether the individual received food stamps (1 if yes, 0 if no).\n",
    "\n",
    "**HCOVANY** is a dummy variable indicating whether the individual has health insurance (1 if yes, 0 if no).\n",
    "\n",
    "**EMPSTAT** is a dummy variable for employment status (1 if employed, 0 if not).\n",
    "\n",
    "**ABSENT** is a dummy variable indicating if the individual was temporarily absent from work (1 if absent, 0 if not).\n",
    "\n",
    "**DIFFCARE** is a dummy variable indicating if the individual has difficulty caring for themselves due to a health condition (1 if yes, 0 if no)."
   ]
  },
  {
   "cell_type": "code",
   "execution_count": 138,
   "id": "cfad7037",
   "metadata": {},
   "outputs": [
    {
     "name": "stdout",
     "output_type": "stream",
     "text": [
      "                            OLS Regression Results                            \n",
      "==============================================================================\n",
      "Dep. Variable:                 INCTOT   R-squared:                       0.081\n",
      "Model:                            OLS   Adj. R-squared:                  0.081\n",
      "Method:                 Least Squares   F-statistic:                     9629.\n",
      "Date:                Sun, 16 Mar 2025   Prob (F-statistic):               0.00\n",
      "Time:                        14:23:25   Log-Likelihood:            -1.0768e+07\n",
      "No. Observations:              870901   AIC:                         2.154e+07\n",
      "Df Residuals:                  870892   BIC:                         2.154e+07\n",
      "Df Model:                           8                                         \n",
      "Covariance Type:            nonrobust                                         \n",
      "===================================================================================\n",
      "                      coef    std err          t      P>|t|      [0.025      0.975]\n",
      "-----------------------------------------------------------------------------------\n",
      "Intercept        1.135e+13   1.43e+13      0.795      0.426   -1.66e+13    3.93e+13\n",
      "MiddleSchoolEDU -1.135e+13   1.43e+13     -0.795      0.426   -3.93e+13    1.66e+13\n",
      "HighSchoolEDU   -1.135e+13   1.43e+13     -0.795      0.426   -3.93e+13    1.66e+13\n",
      "CollegeEDU      -1.135e+13   1.43e+13     -0.795      0.426   -3.93e+13    1.66e+13\n",
      "FOODSTMP        -1.897e+04    182.762   -103.815      0.000   -1.93e+04   -1.86e+04\n",
      "HCOVANY          1.366e+04    328.245     41.615      0.000     1.3e+04    1.43e+04\n",
      "EMPSTAT          2.362e+04    192.411    122.747      0.000    2.32e+04     2.4e+04\n",
      "ABSENT          -1.032e+04    366.757    -28.134      0.000    -1.1e+04   -9599.591\n",
      "DIFFCARE        -4877.0876    244.169    -19.974      0.000   -5355.650   -4398.525\n",
      "==============================================================================\n",
      "Omnibus:                   944736.746   Durbin-Watson:                   1.921\n",
      "Prob(Omnibus):                  0.000   Jarque-Bera (JB):         92640791.549\n",
      "Skew:                           5.510   Prob(JB):                         0.00\n",
      "Kurtosis:                      52.310   Cond. No.                     7.38e+11\n",
      "==============================================================================\n",
      "\n",
      "Notes:\n",
      "[1] Standard Errors assume that the covariance matrix of the errors is correctly specified.\n",
      "[2] The smallest eigenvalue is 3.95e-18. This might indicate that there are\n",
      "strong multicollinearity problems or that the design matrix is singular.\n",
      "b0 (Intercept): 11350027738038.4551\n",
      "b1 (Middle School EDU): -11350027725834.3047\n",
      "b2 (High School EDU): -11350027722743.5703\n",
      "b3 (College EDU): -11350027699458.2520\n",
      "b4 (FOODSTMP): -18973.4456\n",
      "b5 (HCOVANY): 13660.0014\n",
      "b6 (EMPSTAT): 23617.9745\n",
      "b7 (ABSENT): -10318.4220\n",
      "b8 (DIFFCARE): -4877.0876\n"
     ]
    }
   ],
   "source": [
    "# Now I will preform the OLS regression:\n",
    "\n",
    "results = smf.ols('INCTOT ~ MiddleSchoolEDU + HighSchoolEDU + CollegeEDU + FOODSTMP + HCOVANY + EMPSTAT + ABSENT + DIFFCARE', data=df).fit()\n",
    "\n",
    "print(smf.ols('INCTOT ~ MiddleSchoolEDU + HighSchoolEDU + CollegeEDU + FOODSTMP + HCOVANY + EMPSTAT + ABSENT + DIFFCARE', data=df).fit().summary())\n",
    "print(f\"b0 (Intercept): {results.params['Intercept']:.4f}\")\n",
    "print(f\"b1 (Middle School EDU): {results.params['MiddleSchoolEDU']:.4f}\")\n",
    "print(f\"b2 (High School EDU): {results.params['HighSchoolEDU']:.4f}\")\n",
    "print(f\"b3 (College EDU): {results.params['CollegeEDU']:.4f}\")\n",
    "print(f\"b4 (FOODSTMP): {results.params['FOODSTMP']:.4f}\")\n",
    "print(f\"b5 (HCOVANY): {results.params['HCOVANY']:.4f}\")\n",
    "print(f\"b6 (EMPSTAT): {results.params['EMPSTAT']:.4f}\")\n",
    "print(f\"b7 (ABSENT): {results.params['ABSENT']:.4f}\")\n",
    "print(f\"b8 (DIFFCARE): {results.params['DIFFCARE']:.4f}\")\n"
   ]
  },
  {
   "cell_type": "markdown",
   "id": "08390519",
   "metadata": {},
   "source": [
    "<div style=\"\n",
    "    background-color: #f8f9fa; \n",
    "    color: black; \n",
    "    padding: 30px; \n",
    "    text-align: center; \n",
    "    border-radius: 10px; \n",
    "    box-shadow: 0px 4px 8px rgba(0, 0, 0, 0.1);\n",
    "\">\n",
    "    <h1 style=\"color: black; font-size: 2em; font-weight: bold; margin-bottom: 10px;\">\n",
    "        Results\n",
    "    </h1>\n",
    "</div>"
   ]
  }
 ],
 "metadata": {
  "kernelspec": {
   "display_name": "base",
   "language": "python",
   "name": "python3"
  },
  "language_info": {
   "codemirror_mode": {
    "name": "ipython",
    "version": 3
   },
   "file_extension": ".py",
   "mimetype": "text/x-python",
   "name": "python",
   "nbconvert_exporter": "python",
   "pygments_lexer": "ipython3",
   "version": "3.9.7"
  }
 },
 "nbformat": 4,
 "nbformat_minor": 5
}
